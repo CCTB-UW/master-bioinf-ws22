{
  "nbformat": 4,
  "nbformat_minor": 0,
  "metadata": {
    "colab": {
      "provenance": [],
      "authorship_tag": "ABX9TyMDrhBOl9IOH+tyUu0E/Gs+",
      "include_colab_link": true
    },
    "kernelspec": {
      "name": "python3",
      "display_name": "Python 3"
    },
    "language_info": {
      "name": "python"
    }
  },
  "cells": [
    {
      "cell_type": "markdown",
      "metadata": {
        "id": "view-in-github",
        "colab_type": "text"
      },
      "source": [
        "<a href=\"https://colab.research.google.com/github/iimog/master-bioinf-ws22/blob/main/2-Imaging-methods.ipynb\" target=\"_parent\"><img src=\"https://colab.research.google.com/assets/colab-badge.svg\" alt=\"Open In Colab\"/></a>"
      ]
    },
    {
      "cell_type": "markdown",
      "source": [
        "# Method Notebook"
      ],
      "metadata": {
        "id": "gSxfnt-X0TIz"
      }
    },
    {
      "cell_type": "markdown",
      "source": [
        "## Setup"
      ],
      "metadata": {
        "id": "hvASRRRc0ZnL"
      }
    },
    {
      "cell_type": "code",
      "execution_count": null,
      "metadata": {
        "id": "3kNxfrQKyI8S"
      },
      "outputs": [],
      "source": [
        "import skimage.io"
      ]
    },
    {
      "cell_type": "code",
      "source": [
        "import matplotlib.pyplot as plt"
      ],
      "metadata": {
        "id": "QzzY9qZYy6TV"
      },
      "execution_count": null,
      "outputs": []
    },
    {
      "cell_type": "markdown",
      "source": [
        "## Read Image"
      ],
      "metadata": {
        "id": "SXbNuGbE0V-S"
      }
    },
    {
      "cell_type": "code",
      "source": [
        "img = skimage.io.imread(\"https://figshare.com/ndownloader/files/34498427\")"
      ],
      "metadata": {
        "id": "bTpY3uk4y1Kt"
      },
      "execution_count": null,
      "outputs": []
    }
  ]
}