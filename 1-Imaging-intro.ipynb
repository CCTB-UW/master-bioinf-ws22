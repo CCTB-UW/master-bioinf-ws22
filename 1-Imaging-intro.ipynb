{
  "nbformat": 4,
  "nbformat_minor": 0,
  "metadata": {
    "colab": {
      "provenance": [],
      "authorship_tag": "ABX9TyMxl1JMMRsbsnUp8Qm7oktq",
      "include_colab_link": true
    },
    "kernelspec": {
      "name": "python3",
      "display_name": "Python 3"
    },
    "language_info": {
      "name": "python"
    },
    "widgets": {
      "application/vnd.jupyter.widget-state+json": {
        "8c4292758ce24a2b94c372c539ab50eb": {
          "model_module": "jupyter-matplotlib",
          "model_name": "MPLCanvasModel",
          "model_module_version": "^0.11",
          "state": {
            "_cursor": "default",
            "_data_url": "data:image/png;base64,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",
            "_dom_classes": [],
            "_figure_label": "Figure 1",
            "_image_mode": "full",
            "_message": "",
            "_model_module": "jupyter-matplotlib",
            "_model_module_version": "^0.11",
            "_model_name": "MPLCanvasModel",
            "_rubberband_height": 0,
            "_rubberband_width": 0,
            "_rubberband_x": 0,
            "_rubberband_y": 0,
            "_size": [
              432,
              288
            ],
            "_view_count": null,
            "_view_module": "jupyter-matplotlib",
            "_view_module_version": "^0.11",
            "_view_name": "MPLCanvasView",
            "capture_scroll": false,
            "footer_visible": true,
            "header_visible": true,
            "layout": "IPY_MODEL_2c5587269067463c9afa5f9b26f10f0a",
            "pan_zoom_throttle": 33,
            "resizable": true,
            "toolbar": "IPY_MODEL_d997e4f293f547a598e20902a4512feb",
            "toolbar_position": "left",
            "toolbar_visible": "fade-in-fade-out"
          }
        },
        "2c5587269067463c9afa5f9b26f10f0a": {
          "model_module": "@jupyter-widgets/base",
          "model_name": "LayoutModel",
          "model_module_version": "1.2.0",
          "state": {
            "_model_module": "@jupyter-widgets/base",
            "_model_module_version": "1.2.0",
            "_model_name": "LayoutModel",
            "_view_count": null,
            "_view_module": "@jupyter-widgets/base",
            "_view_module_version": "1.2.0",
            "_view_name": "LayoutView",
            "align_content": null,
            "align_items": null,
            "align_self": null,
            "border": null,
            "bottom": null,
            "display": null,
            "flex": null,
            "flex_flow": null,
            "grid_area": null,
            "grid_auto_columns": null,
            "grid_auto_flow": null,
            "grid_auto_rows": null,
            "grid_column": null,
            "grid_gap": null,
            "grid_row": null,
            "grid_template_areas": null,
            "grid_template_columns": null,
            "grid_template_rows": null,
            "height": null,
            "justify_content": null,
            "justify_items": null,
            "left": null,
            "margin": null,
            "max_height": null,
            "max_width": null,
            "min_height": null,
            "min_width": null,
            "object_fit": null,
            "object_position": null,
            "order": null,
            "overflow": null,
            "overflow_x": null,
            "overflow_y": null,
            "padding": null,
            "right": null,
            "top": null,
            "visibility": null,
            "width": null
          }
        },
        "d997e4f293f547a598e20902a4512feb": {
          "model_module": "jupyter-matplotlib",
          "model_name": "ToolbarModel",
          "model_module_version": "^0.11",
          "state": {
            "_current_action": "",
            "_dom_classes": [],
            "_model_module": "jupyter-matplotlib",
            "_model_module_version": "^0.11",
            "_model_name": "ToolbarModel",
            "_view_count": null,
            "_view_module": "jupyter-matplotlib",
            "_view_module_version": "^0.11",
            "_view_name": "ToolbarView",
            "button_style": "",
            "collapsed": true,
            "layout": "IPY_MODEL_7173627d39d34b119da81863661e3507",
            "orientation": "vertical",
            "toolitems": [
              [
                "Home",
                "Reset original view",
                "home",
                "home"
              ],
              [
                "Back",
                "Back to previous view",
                "arrow-left",
                "back"
              ],
              [
                "Forward",
                "Forward to next view",
                "arrow-right",
                "forward"
              ],
              [
                "Pan",
                "Left button pans, Right button zooms\nx/y fixes axis, CTRL fixes aspect",
                "arrows",
                "pan"
              ],
              [
                "Zoom",
                "Zoom to rectangle\nx/y fixes axis",
                "square-o",
                "zoom"
              ],
              [
                "Download",
                "Download plot",
                "floppy-o",
                "save_figure"
              ]
            ]
          }
        },
        "7173627d39d34b119da81863661e3507": {
          "model_module": "@jupyter-widgets/base",
          "model_name": "LayoutModel",
          "model_module_version": "1.2.0",
          "state": {
            "_model_module": "@jupyter-widgets/base",
            "_model_module_version": "1.2.0",
            "_model_name": "LayoutModel",
            "_view_count": null,
            "_view_module": "@jupyter-widgets/base",
            "_view_module_version": "1.2.0",
            "_view_name": "LayoutView",
            "align_content": null,
            "align_items": null,
            "align_self": null,
            "border": null,
            "bottom": null,
            "display": null,
            "flex": null,
            "flex_flow": null,
            "grid_area": null,
            "grid_auto_columns": null,
            "grid_auto_flow": null,
            "grid_auto_rows": null,
            "grid_column": null,
            "grid_gap": null,
            "grid_row": null,
            "grid_template_areas": null,
            "grid_template_columns": null,
            "grid_template_rows": null,
            "height": null,
            "justify_content": null,
            "justify_items": null,
            "left": null,
            "margin": null,
            "max_height": null,
            "max_width": null,
            "min_height": null,
            "min_width": null,
            "object_fit": null,
            "object_position": null,
            "order": null,
            "overflow": null,
            "overflow_x": null,
            "overflow_y": null,
            "padding": null,
            "right": null,
            "top": null,
            "visibility": null,
            "width": null
          }
        }
      }
    }
  },
  "cells": [
    {
      "cell_type": "markdown",
      "metadata": {
        "id": "view-in-github",
        "colab_type": "text"
      },
      "source": [
        "<a href=\"https://colab.research.google.com/github/iimog/master-bioinf-ws22/blob/main/1-Imaging-intro.ipynb\" target=\"_parent\"><img src=\"https://colab.research.google.com/assets/colab-badge.svg\" alt=\"Open In Colab\"/></a>"
      ]
    },
    {
      "cell_type": "markdown",
      "source": [
        "# Intro Notebook"
      ],
      "metadata": {
        "id": "gSxfnt-X0TIz"
      }
    },
    {
      "cell_type": "markdown",
      "source": [
        "## Setup"
      ],
      "metadata": {
        "id": "hvASRRRc0ZnL"
      }
    },
    {
      "cell_type": "code",
      "source": [
        "!pip install ipympl"
      ],
      "metadata": {
        "id": "nwg9aKSozM2h",
        "colab": {
          "base_uri": "https://localhost:8080/"
        },
        "outputId": "ed17c959-28bd-41c8-b8b7-3097ab2e1675"
      },
      "execution_count": 1,
      "outputs": [
        {
          "output_type": "stream",
          "name": "stdout",
          "text": [
            "Looking in indexes: https://pypi.org/simple, https://us-python.pkg.dev/colab-wheels/public/simple/\n",
            "Requirement already satisfied: ipympl in /usr/local/lib/python3.8/dist-packages (0.9.2)\n",
            "Requirement already satisfied: ipywidgets<9,>=7.6.0 in /usr/local/lib/python3.8/dist-packages (from ipympl) (7.7.1)\n",
            "Requirement already satisfied: traitlets<6 in /usr/local/lib/python3.8/dist-packages (from ipympl) (5.7.1)\n",
            "Requirement already satisfied: matplotlib<4,>=3.4.0 in /usr/local/lib/python3.8/dist-packages (from ipympl) (3.6.3)\n",
            "Requirement already satisfied: numpy in /usr/local/lib/python3.8/dist-packages (from ipympl) (1.21.6)\n",
            "Requirement already satisfied: pillow in /usr/local/lib/python3.8/dist-packages (from ipympl) (7.1.2)\n",
            "Requirement already satisfied: ipython-genutils in /usr/local/lib/python3.8/dist-packages (from ipympl) (0.2.0)\n",
            "Requirement already satisfied: ipython<9 in /usr/local/lib/python3.8/dist-packages (from ipympl) (7.9.0)\n",
            "Requirement already satisfied: setuptools>=18.5 in /usr/local/lib/python3.8/dist-packages (from ipython<9->ipympl) (57.4.0)\n",
            "Requirement already satisfied: backcall in /usr/local/lib/python3.8/dist-packages (from ipython<9->ipympl) (0.2.0)\n",
            "Requirement already satisfied: pickleshare in /usr/local/lib/python3.8/dist-packages (from ipython<9->ipympl) (0.7.5)\n",
            "Requirement already satisfied: prompt-toolkit<2.1.0,>=2.0.0 in /usr/local/lib/python3.8/dist-packages (from ipython<9->ipympl) (2.0.10)\n",
            "Requirement already satisfied: jedi>=0.10 in /usr/local/lib/python3.8/dist-packages (from ipython<9->ipympl) (0.18.2)\n",
            "Requirement already satisfied: decorator in /usr/local/lib/python3.8/dist-packages (from ipython<9->ipympl) (4.4.2)\n",
            "Requirement already satisfied: pygments in /usr/local/lib/python3.8/dist-packages (from ipython<9->ipympl) (2.6.1)\n",
            "Requirement already satisfied: pexpect in /usr/local/lib/python3.8/dist-packages (from ipython<9->ipympl) (4.8.0)\n",
            "Requirement already satisfied: widgetsnbextension~=3.6.0 in /usr/local/lib/python3.8/dist-packages (from ipywidgets<9,>=7.6.0->ipympl) (3.6.1)\n",
            "Requirement already satisfied: ipykernel>=4.5.1 in /usr/local/lib/python3.8/dist-packages (from ipywidgets<9,>=7.6.0->ipympl) (5.3.4)\n",
            "Requirement already satisfied: jupyterlab-widgets>=1.0.0 in /usr/local/lib/python3.8/dist-packages (from ipywidgets<9,>=7.6.0->ipympl) (3.0.5)\n",
            "Requirement already satisfied: kiwisolver>=1.0.1 in /usr/local/lib/python3.8/dist-packages (from matplotlib<4,>=3.4.0->ipympl) (1.4.4)\n",
            "Requirement already satisfied: contourpy>=1.0.1 in /usr/local/lib/python3.8/dist-packages (from matplotlib<4,>=3.4.0->ipympl) (1.0.7)\n",
            "Requirement already satisfied: cycler>=0.10 in /usr/local/lib/python3.8/dist-packages (from matplotlib<4,>=3.4.0->ipympl) (0.11.0)\n",
            "Requirement already satisfied: fonttools>=4.22.0 in /usr/local/lib/python3.8/dist-packages (from matplotlib<4,>=3.4.0->ipympl) (4.38.0)\n",
            "Requirement already satisfied: python-dateutil>=2.7 in /usr/local/lib/python3.8/dist-packages (from matplotlib<4,>=3.4.0->ipympl) (2.8.2)\n",
            "Requirement already satisfied: pyparsing>=2.2.1 in /usr/local/lib/python3.8/dist-packages (from matplotlib<4,>=3.4.0->ipympl) (3.0.9)\n",
            "Requirement already satisfied: packaging>=20.0 in /usr/local/lib/python3.8/dist-packages (from matplotlib<4,>=3.4.0->ipympl) (21.3)\n",
            "Requirement already satisfied: jupyter-client in /usr/local/lib/python3.8/dist-packages (from ipykernel>=4.5.1->ipywidgets<9,>=7.6.0->ipympl) (6.1.12)\n",
            "Requirement already satisfied: tornado>=4.2 in /usr/local/lib/python3.8/dist-packages (from ipykernel>=4.5.1->ipywidgets<9,>=7.6.0->ipympl) (6.0.4)\n",
            "Requirement already satisfied: parso<0.9.0,>=0.8.0 in /usr/local/lib/python3.8/dist-packages (from jedi>=0.10->ipython<9->ipympl) (0.8.3)\n",
            "Requirement already satisfied: six>=1.9.0 in /usr/local/lib/python3.8/dist-packages (from prompt-toolkit<2.1.0,>=2.0.0->ipython<9->ipympl) (1.15.0)\n",
            "Requirement already satisfied: wcwidth in /usr/local/lib/python3.8/dist-packages (from prompt-toolkit<2.1.0,>=2.0.0->ipython<9->ipympl) (0.2.5)\n",
            "Requirement already satisfied: notebook>=4.4.1 in /usr/local/lib/python3.8/dist-packages (from widgetsnbextension~=3.6.0->ipywidgets<9,>=7.6.0->ipympl) (5.7.16)\n",
            "Requirement already satisfied: ptyprocess>=0.5 in /usr/local/lib/python3.8/dist-packages (from pexpect->ipython<9->ipympl) (0.7.0)\n",
            "Requirement already satisfied: jinja2<=3.0.0 in /usr/local/lib/python3.8/dist-packages (from notebook>=4.4.1->widgetsnbextension~=3.6.0->ipywidgets<9,>=7.6.0->ipympl) (2.11.3)\n",
            "Requirement already satisfied: nbconvert<6.0 in /usr/local/lib/python3.8/dist-packages (from notebook>=4.4.1->widgetsnbextension~=3.6.0->ipywidgets<9,>=7.6.0->ipympl) (5.6.1)\n",
            "Requirement already satisfied: prometheus-client in /usr/local/lib/python3.8/dist-packages (from notebook>=4.4.1->widgetsnbextension~=3.6.0->ipywidgets<9,>=7.6.0->ipympl) (0.15.0)\n",
            "Requirement already satisfied: jupyter-core>=4.4.0 in /usr/local/lib/python3.8/dist-packages (from notebook>=4.4.1->widgetsnbextension~=3.6.0->ipywidgets<9,>=7.6.0->ipympl) (5.1.2)\n",
            "Requirement already satisfied: pyzmq>=17 in /usr/local/lib/python3.8/dist-packages (from notebook>=4.4.1->widgetsnbextension~=3.6.0->ipywidgets<9,>=7.6.0->ipympl) (23.2.1)\n",
            "Requirement already satisfied: Send2Trash in /usr/local/lib/python3.8/dist-packages (from notebook>=4.4.1->widgetsnbextension~=3.6.0->ipywidgets<9,>=7.6.0->ipympl) (1.8.0)\n",
            "Requirement already satisfied: nbformat in /usr/local/lib/python3.8/dist-packages (from notebook>=4.4.1->widgetsnbextension~=3.6.0->ipywidgets<9,>=7.6.0->ipympl) (5.7.1)\n",
            "Requirement already satisfied: terminado>=0.8.1 in /usr/local/lib/python3.8/dist-packages (from notebook>=4.4.1->widgetsnbextension~=3.6.0->ipywidgets<9,>=7.6.0->ipympl) (0.13.3)\n",
            "Requirement already satisfied: MarkupSafe>=0.23 in /usr/local/lib/python3.8/dist-packages (from jinja2<=3.0.0->notebook>=4.4.1->widgetsnbextension~=3.6.0->ipywidgets<9,>=7.6.0->ipympl) (2.0.1)\n",
            "Requirement already satisfied: platformdirs>=2.5 in /usr/local/lib/python3.8/dist-packages (from jupyter-core>=4.4.0->notebook>=4.4.1->widgetsnbextension~=3.6.0->ipywidgets<9,>=7.6.0->ipympl) (2.6.2)\n",
            "Requirement already satisfied: entrypoints>=0.2.2 in /usr/local/lib/python3.8/dist-packages (from nbconvert<6.0->notebook>=4.4.1->widgetsnbextension~=3.6.0->ipywidgets<9,>=7.6.0->ipympl) (0.4)\n",
            "Requirement already satisfied: pandocfilters>=1.4.1 in /usr/local/lib/python3.8/dist-packages (from nbconvert<6.0->notebook>=4.4.1->widgetsnbextension~=3.6.0->ipywidgets<9,>=7.6.0->ipympl) (1.5.0)\n",
            "Requirement already satisfied: defusedxml in /usr/local/lib/python3.8/dist-packages (from nbconvert<6.0->notebook>=4.4.1->widgetsnbextension~=3.6.0->ipywidgets<9,>=7.6.0->ipympl) (0.7.1)\n",
            "Requirement already satisfied: mistune<2,>=0.8.1 in /usr/local/lib/python3.8/dist-packages (from nbconvert<6.0->notebook>=4.4.1->widgetsnbextension~=3.6.0->ipywidgets<9,>=7.6.0->ipympl) (0.8.4)\n",
            "Requirement already satisfied: testpath in /usr/local/lib/python3.8/dist-packages (from nbconvert<6.0->notebook>=4.4.1->widgetsnbextension~=3.6.0->ipywidgets<9,>=7.6.0->ipympl) (0.6.0)\n",
            "Requirement already satisfied: bleach in /usr/local/lib/python3.8/dist-packages (from nbconvert<6.0->notebook>=4.4.1->widgetsnbextension~=3.6.0->ipywidgets<9,>=7.6.0->ipympl) (5.0.1)\n",
            "Requirement already satisfied: fastjsonschema in /usr/local/lib/python3.8/dist-packages (from nbformat->notebook>=4.4.1->widgetsnbextension~=3.6.0->ipywidgets<9,>=7.6.0->ipympl) (2.16.2)\n",
            "Requirement already satisfied: jsonschema>=2.6 in /usr/local/lib/python3.8/dist-packages (from nbformat->notebook>=4.4.1->widgetsnbextension~=3.6.0->ipywidgets<9,>=7.6.0->ipympl) (4.3.3)\n",
            "Requirement already satisfied: pyrsistent!=0.17.0,!=0.17.1,!=0.17.2,>=0.14.0 in /usr/local/lib/python3.8/dist-packages (from jsonschema>=2.6->nbformat->notebook>=4.4.1->widgetsnbextension~=3.6.0->ipywidgets<9,>=7.6.0->ipympl) (0.19.3)\n",
            "Requirement already satisfied: importlib-resources>=1.4.0 in /usr/local/lib/python3.8/dist-packages (from jsonschema>=2.6->nbformat->notebook>=4.4.1->widgetsnbextension~=3.6.0->ipywidgets<9,>=7.6.0->ipympl) (5.10.2)\n",
            "Requirement already satisfied: attrs>=17.4.0 in /usr/local/lib/python3.8/dist-packages (from jsonschema>=2.6->nbformat->notebook>=4.4.1->widgetsnbextension~=3.6.0->ipywidgets<9,>=7.6.0->ipympl) (22.2.0)\n",
            "Requirement already satisfied: webencodings in /usr/local/lib/python3.8/dist-packages (from bleach->nbconvert<6.0->notebook>=4.4.1->widgetsnbextension~=3.6.0->ipywidgets<9,>=7.6.0->ipympl) (0.5.1)\n",
            "Requirement already satisfied: zipp>=3.1.0 in /usr/local/lib/python3.8/dist-packages (from importlib-resources>=1.4.0->jsonschema>=2.6->nbformat->notebook>=4.4.1->widgetsnbextension~=3.6.0->ipywidgets<9,>=7.6.0->ipympl) (3.11.0)\n"
          ]
        }
      ]
    },
    {
      "cell_type": "code",
      "execution_count": 2,
      "metadata": {
        "id": "3kNxfrQKyI8S"
      },
      "outputs": [],
      "source": [
        "import skimage.io"
      ]
    },
    {
      "cell_type": "code",
      "source": [
        "import matplotlib.pyplot as plt"
      ],
      "metadata": {
        "id": "QzzY9qZYy6TV"
      },
      "execution_count": 3,
      "outputs": []
    },
    {
      "cell_type": "code",
      "source": [
        "%matplotlib widget"
      ],
      "metadata": {
        "id": "HKUeKQmIzEAP"
      },
      "execution_count": 4,
      "outputs": []
    },
    {
      "cell_type": "code",
      "source": [
        "from google.colab import output\n",
        "output.enable_custom_widget_manager()"
      ],
      "metadata": {
        "id": "fmqMpJByz6nS"
      },
      "execution_count": 5,
      "outputs": []
    },
    {
      "cell_type": "markdown",
      "source": [
        "## Read Image"
      ],
      "metadata": {
        "id": "SXbNuGbE0V-S"
      }
    },
    {
      "cell_type": "code",
      "source": [
        "img = skimage.io.imread(\"https://figshare.com/ndownloader/files/34498439\")"
      ],
      "metadata": {
        "id": "bTpY3uk4y1Kt"
      },
      "execution_count": 6,
      "outputs": []
    },
    {
      "cell_type": "code",
      "source": [
        "img.shape"
      ],
      "metadata": {
        "id": "nKVo3e5py5H6",
        "colab": {
          "base_uri": "https://localhost:8080/"
        },
        "outputId": "1dfd3e26-fabb-429b-cb1f-2b6205828c03"
      },
      "execution_count": 7,
      "outputs": [
        {
          "output_type": "execute_result",
          "data": {
            "text/plain": [
              "(480, 640, 3)"
            ]
          },
          "metadata": {},
          "execution_count": 7
        }
      ]
    },
    {
      "cell_type": "code",
      "source": [
        "plt.close()\n",
        "plt.imshow(img)\n",
        "plt.show()"
      ],
      "metadata": {
        "id": "IIJ-IR-OzJSr",
        "colab": {
          "base_uri": "https://localhost:8080/",
          "height": 377,
          "referenced_widgets": [
            "8c4292758ce24a2b94c372c539ab50eb",
            "2c5587269067463c9afa5f9b26f10f0a",
            "d997e4f293f547a598e20902a4512feb",
            "7173627d39d34b119da81863661e3507"
          ]
        },
        "outputId": "aba69aa3-e8d4-4075-f5d3-24333961fc11"
      },
      "execution_count": 8,
      "outputs": [
        {
          "output_type": "display_data",
          "data": {
            "text/plain": [
              "Canvas(toolbar=Toolbar(toolitems=[('Home', 'Reset original view', 'home', 'home'), ('Back', 'Back to previous …"
            ],
            "image/png": "[encoded data removed]",
            "text/html": [
              "\n",
              "            <div style=\"display: inline-block;\">\n",
              "                <div class=\"jupyter-widgets widget-label\" style=\"text-align: center;\">\n",
              "                    Figure\n",
              "                </div>\n",
              "                <img src='data:image/png;base64,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' width=432.0/>\n",
              "            </div>\n",
              "        "
            ],
            "application/vnd.jupyter.widget-view+json": {
              "version_major": 2,
              "version_minor": 0,
              "model_id": "8c4292758ce24a2b94c372c539ab50eb"
            }
          },
          "metadata": {
            "application/vnd.jupyter.widget-view+json": {
              "colab": {
                "custom_widget_manager": {
                  "url": "https://ssl.gstatic.com/colaboratory-static/widgets/colab-cdn-widget-manager/b3e629b1971e1542/manager.min.js"
                }
              }
            }
          }
        }
      ]
    },
    {
      "cell_type": "code",
      "source": [
        "img"
      ],
      "metadata": {
        "colab": {
          "base_uri": "https://localhost:8080/",
          "height": 868
        },
        "id": "Kgxv7VNUQt7L",
        "outputId": "19d2146b-111a-4056-e699-a612153cdc55"
      },
      "execution_count": 9,
      "outputs": [
        {
          "output_type": "execute_result",
          "data": {
            "text/plain": [
              "array([[[255,   0,   0],\n",
              "        [255,   0,   0],\n",
              "        [255,   0,   0],\n",
              "        ...,\n",
              "        [  0, 255,   0],\n",
              "        [  0, 255,   0],\n",
              "        [  0, 255,   0]],\n",
              "\n",
              "       [[255,   0,   0],\n",
              "        [255,   0,   0],\n",
              "        [255,   0,   0],\n",
              "        ...,\n",
              "        [  0, 255,   0],\n",
              "        [  0, 255,   0],\n",
              "        [  0, 255,   0]],\n",
              "\n",
              "       [[183,   0,   0],\n",
              "        [251,   0,   0],\n",
              "        [255,   0,   0],\n",
              "        ...,\n",
              "        [  0, 255,   0],\n",
              "        [  0, 255,   0],\n",
              "        [  0, 251,   0]],\n",
              "\n",
              "       ...,\n",
              "\n",
              "       [[  0,   0,   0],\n",
              "        [  0,   0,   0],\n",
              "        [  0,   0,   0],\n",
              "        ...,\n",
              "        [  0,   0,   0],\n",
              "        [  0,   0,   0],\n",
              "        [  0,   0,   0]],\n",
              "\n",
              "       [[  0,   0,   0],\n",
              "        [  0,   0,   0],\n",
              "        [  0,   0,   0],\n",
              "        ...,\n",
              "        [  0,   0,   0],\n",
              "        [  0,   0,   0],\n",
              "        [  0,   0,   0]],\n",
              "\n",
              "       [[  0,   0,   0],\n",
              "        [  0,   0,   0],\n",
              "        [  0,   0,   0],\n",
              "        ...,\n",
              "        [  0,   0,   0],\n",
              "        [  0,   0,   0],\n",
              "        [  0,   0,   0]]], dtype=uint8)"
            ]
          },
          "metadata": {},
          "execution_count": 9
        }
      ]
    },
    {
      "cell_type": "code",
      "source": [
        "img[0,0]"
      ],
      "metadata": {
        "colab": {
          "base_uri": "https://localhost:8080/",
          "height": 34
        },
        "id": "xnmVnxmtREek",
        "outputId": "18365e46-10e2-458f-e9ff-ba770b5995e6"
      },
      "execution_count": 10,
      "outputs": [
        {
          "output_type": "execute_result",
          "data": {
            "text/plain": [
              "array([255,   0,   0], dtype=uint8)"
            ]
          },
          "metadata": {},
          "execution_count": 10
        }
      ]
    },
    {
      "cell_type": "code",
      "source": [
        "img[370,320]"
      ],
      "metadata": {
        "colab": {
          "base_uri": "https://localhost:8080/",
          "height": 34
        },
        "id": "gCsX_fFdR2Mn",
        "outputId": "f8703ee9-e9a0-4222-ec33-c45031d74f6b"
      },
      "execution_count": 11,
      "outputs": [
        {
          "output_type": "execute_result",
          "data": {
            "text/plain": [
              "array([  0,   0, 255], dtype=uint8)"
            ]
          },
          "metadata": {},
          "execution_count": 11
        }
      ]
    },
    {
      "cell_type": "code",
      "source": [
        "img[370,320,2]"
      ],
      "metadata": {
        "colab": {
          "base_uri": "https://localhost:8080/",
          "height": 34
        },
        "id": "-E7XIz7-R_Dk",
        "outputId": "3b8d96c9-36bb-45ab-f7e5-8f5249d8709c"
      },
      "execution_count": 12,
      "outputs": [
        {
          "output_type": "execute_result",
          "data": {
            "text/plain": [
              "255"
            ]
          },
          "metadata": {},
          "execution_count": 12
        }
      ]
    },
    {
      "cell_type": "code",
      "source": [],
      "metadata": {
        "id": "4f4rPBkoSLG6"
      },
      "execution_count": 12,
      "outputs": []
    }
  ]
}